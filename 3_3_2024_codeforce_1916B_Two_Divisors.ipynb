{
  "nbformat": 4,
  "nbformat_minor": 0,
  "metadata": {
    "colab": {
      "private_outputs": true,
      "provenance": [],
      "authorship_tag": "ABX9TyP6LPpW/1P/vZm4Z7ywOLRi",
      "include_colab_link": true
    },
    "kernelspec": {
      "name": "python3",
      "display_name": "Python 3"
    },
    "language_info": {
      "name": "python"
    }
  },
  "cells": [
    {
      "cell_type": "markdown",
      "metadata": {
        "id": "view-in-github",
        "colab_type": "text"
      },
      "source": [
        "<a href=\"https://colab.research.google.com/github/adrianyang2012/Codeforces_factors_problem/blob/main/3_3_2024_codeforce_1916B_Two_Divisors.ipynb\" target=\"_parent\"><img src=\"https://colab.research.google.com/assets/colab-badge.svg\" alt=\"Open In Colab\"/></a>"
      ]
    },
    {
      "cell_type": "code",
      "source": [
        "import sys\n",
        "import math\n",
        "import random\n",
        "def is_prime(x):\n",
        "  for i in range(2,int(math.sqrt(x))+1):\n",
        "    #print(i,int(math.sqrt(x))+1)\n",
        "    if x%i == 0:\n",
        "      return False\n",
        "  return True\n",
        "\n",
        "def prime_factorize(x):\n",
        "  factors_pairs = [1,x]\n",
        "  for i in range(2,int(x)):\n",
        "    if x%i == 0:\n",
        "      factors_pairs = [int(i),int(x/i)]\n",
        "      break\n",
        "  if is_prime(factors_pairs[1]):\n",
        "    return factors_pairs\n",
        "  return prime_factorize(factors_pairs[1])+prime_factorize(factors_pairs[0])\n",
        "def least_common_multiple_that_is_not_x_or_y(x,y):\n",
        "  if x == 1:\n",
        "    return y**2\n",
        "  elif y ==1:\n",
        "    return x**2\n",
        "  dict_of_factors = {}\n",
        "  x_factorize = prime_factorize(x)\n",
        "  y_factorize = prime_factorize(y)\n",
        "  for i in range(0,len(list(set(x_factorize)))):\n",
        "    dict_of_factors[list(set(x_factorize))[i]] = x_factorize.count(list(set(x_factorize))[i])\n",
        "  for i in range(0,len(list(set(y_factorize)))):\n",
        "    if list(set(y_factorize))[i] in list(dict_of_factors.keys()):\n",
        "      if y_factorize.count(list(set(y_factorize))[i]) > dict_of_factors[list(set(y_factorize))[i]]:\n",
        "        dict_of_factors[list(set(y_factorize))[i]] = y_factorize.count(list(set(y_factorize))[i])\n",
        "    else:\n",
        "      dict_of_factors[list(set(y_factorize))[i]] = y_factorize.count(list(set(y_factorize))[i])\n",
        "  product = list(dict_of_factors.keys())[0]**dict_of_factors[list(dict_of_factors.keys())[0]]\n",
        "  for i in range(1, len(dict_of_factors.keys())):\n",
        "    product*= list(dict_of_factors.keys())[i]**dict_of_factors[list(dict_of_factors.keys())[i]]\n",
        "  if product == max([x,y]):\n",
        "    product*=int(max([x,y])/min([x,y]))\n",
        "  return product\n",
        "line_no = 0\n",
        "lines =f'''{random.randint(1000,10**9)} {random.randint(1000,10**9)}\n",
        "{random.randint(1000,10**9)} {random.randint(1000,10**9)}\n",
        "{random.randint(1000,10**9)} {random.randint(1000,10**9)}\n",
        "{random.randint(1000,10**9)} {random.randint(1000,10**9)}\n",
        "{random.randint(1000,10**9)} {random.randint(1000,10**9)}\n",
        "{random.randint(1000,10**9)} {random.randint(1000,10**9)}\n",
        "{random.randint(1000,10**9)} {random.randint(1000,10**9)}\n",
        "{random.randint(1000,10**9)} {random.randint(1000,10**9)}\n",
        "{random.randint(1000,10**9)} {random.randint(1000,10**9)}\n",
        "{random.randint(1000,10**9)} {random.randint(1000,10**9)}\n",
        "{random.randint(1000,10**9)} {random.randint(1000,10**9)}\n",
        "{random.randint(1000,10**9)} {random.randint(1000,10**9)}\n",
        "{random.randint(1000,10**9)} {random.randint(1000,10**9)}\n",
        "{random.randint(1000,10**9)} {random.randint(1000,10**9)}\n",
        "{random.randint(1000,10**9)} {random.randint(1000,10**9)}\n",
        "{random.randint(1000,10**9)} {random.randint(1000,10**9)}'''.split('\\n')\n",
        "for line in lines:\n",
        "  line_no+=1\n",
        "  if line_no == 1:\n",
        "    continue\n",
        "  print(least_common_multiple_that_is_not_x_or_y(int(line.split(' ')[0]),int(line.split(' ')[1])))"
      ],
      "metadata": {
        "id": "Eayzw1-PSDhV"
      },
      "execution_count": null,
      "outputs": []
    },
    {
      "cell_type": "code",
      "source": [
        "import sys\n",
        "import random\n",
        "import math\n",
        "def Adrian_gcf(x,y):\n",
        "  while y:\n",
        "    tmp = x\n",
        "    x = y\n",
        "    y = tmp%y\n",
        "  return x\n",
        "def Adrian_lcm(x, y):\n",
        "  return x*y/Adrian_gcf(x,y)\n",
        "def least_common_multiple_that_is_not_x_or_y(x,y):\n",
        "  product = math.lcm(x,y)\n",
        "  if x == 1:\n",
        "    return y**2\n",
        "  elif y ==1:\n",
        "    return x**2\n",
        "\n",
        "  if product == max([x,y]):\n",
        "    product*=int(max([x,y])/min([x,y]))\n",
        "  return product\n",
        "least_common_multiple_that_is_not_x_or_y(1,2)\n",
        "line_no = 0\n",
        "\n",
        "#lines = '''8\n",
        "#2 3\n",
        "#1 2\n",
        "#3 11\n",
        "#1 5\n",
        "#5 10\n",
        "#4 6\n",
        "#3 9\n",
        "#250000000 500000000'''.split('\\n')\n",
        "\n",
        "for line in sys.stdin:\n",
        "  line_no+=1\n",
        "  if line_no == 1:\n",
        "    continue\n",
        "  if line == '':\n",
        "    continue\n",
        "  print(least_common_multiple_that_is_not_x_or_y(int(line.split(' ')[0]),int(line.split(' ')[1])))"
      ],
      "metadata": {
        "id": "PDzvNHJ46dFh"
      },
      "execution_count": null,
      "outputs": []
    },
    {
      "cell_type": "code",
      "source": [
        "Adrian_lcm(9,32)"
      ],
      "metadata": {
        "id": "y1KZn7RhYIzw"
      },
      "execution_count": null,
      "outputs": []
    }
  ]
}